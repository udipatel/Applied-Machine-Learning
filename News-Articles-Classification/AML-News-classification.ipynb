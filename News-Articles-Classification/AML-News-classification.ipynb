{
 "cells": [
  {
   "cell_type": "markdown",
   "metadata": {
    "collapsed": false
   },
   "source": [
    "# News Articles classification : Using Bag-of-words approach \n",
    "\n",
    "************************************************************************************************************************\n",
    "**Project**      : News Articles Text Classification using Bag of Words Model\n",
    "****\n",
    "**Notebook Name**: AML-news-classification.ipynb    \n",
    "****\n",
    "**Developed by** : Kushal Kokje (kkokje@iu.edu) , \n",
    "               Udit   Patel (udipatel@iu.edu)\n",
    "****               \n",
    "**Date**         : 11-05-2016\n",
    "****    \n",
    "**History of changes :** \n",
    "<pre>\n",
    "\n",
    "------------------------------------------------------------------------------------\n",
    "|**Author**          |      **Date**      |  **Comments**                          |\n",
    "|--------------------|--------------------|----------------------------------------|\n",
    "|Kushal Kokje        |      11/05/2016    |   Initial Version                      |\n",
    "|--------------------|--------------------|----------------------------------------|\n",
    "| Udit Patel         |      12/7/2016     | Code correction and MDS implementation |\n",
    "------------------------------------------------------------------------------------\n",
    "\n",
    "</pre>\n",
    "\n",
    "************************************************************************************************************************"
   ]
  },
  {
   "cell_type": "markdown",
   "metadata": {},
   "source": [
    "## 1> Dataset Loading \n",
    "****\n",
    "\n",
    "\n",
    "Dataset used for classification is BBC news dataset.\n",
    "It Consists of 2225 documents from the BBC news website corresponding to stories in five topical areas from 2004-2005.\n",
    "Natural Classes: 5 (business, entertainment, politics, sport, tech)\n",
    "\n",
    "Courtsey : \n",
    "- D. Greene and P. Cunningham. \"Practical Solutions to the Problem of Diagonal Dominance in Kernel Document Clustering\", Proc. ICML 2006.\n",
    "All rights, including copyright, in the content of the original articles are owned by the BBC.\n",
    "\n",
    "Data files needs to arranged in a folder as per their class values.\n",
    "The bbc folder used here contains 5 sub folders , which are the 5 class values , each containing files for that category.  \n",
    "\n"
   ]
  },
  {
   "cell_type": "code",
   "execution_count": 1,
   "metadata": {
    "collapsed": true
   },
   "outputs": [],
   "source": [
    "# Import libraries need for loading the dataset into the Pyhton datasets class object\n",
    "\n",
    "import sklearn\n",
    "from sklearn import datasets\n",
    "from sklearn.feature_extraction.text import CountVectorizer\n",
    "from sklearn.feature_extraction.text import TfidfTransformer\n",
    "from sklearn.naive_bayes import MultinomialNB\n",
    "from sklearn.model_selection import train_test_split\n",
    "import numpy as np"
   ]
  },
  {
   "cell_type": "code",
   "execution_count": 185,
   "metadata": {
    "collapsed": false
   },
   "outputs": [],
   "source": [
    "# set dataset file path\n",
    "bbcfilespath     = \"C:\\\\Users\\\\Kushal Kokje\\\\Documents\\\\bbc\"\n",
    "\n",
    "# dataset.load_files loads all the files in bbcdataset object.\n",
    "bbcdataset = datasets.load_files(bbcfilespath,encoding = 'utf-8',decode_error = 'ignore')"
   ]
  },
  {
   "cell_type": "code",
   "execution_count": 184,
   "metadata": {
    "collapsed": false
   },
   "outputs": [
    {
     "name": "stdout",
     "output_type": "stream",
     "text": [
      "272\n",
      "272\n",
      "<class 'list'>\n"
     ]
    }
   ],
   "source": [
    "# print number of files loaded in the dataset\n",
    "print(len(bbcdataset.filenames))\n",
    "# the data attribute hold the actual parsed text files as strings. It is a list of strings.\n",
    "print(len(bbcdataset.data))\n",
    "print(type(bbcdataset.data))"
   ]
  },
  {
   "cell_type": "code",
   "execution_count": 17,
   "metadata": {
    "collapsed": false
   },
   "outputs": [
    {
     "data": {
      "text/plain": [
       "['business', 'entertainment', 'politics', 'sport', 'tech']"
      ]
     },
     "execution_count": 17,
     "metadata": {},
     "output_type": "execute_result"
    }
   ],
   "source": [
    "# print the target names(class values) , which are the names of the sub folder \n",
    "bbcdataset.target_names"
   ]
  },
  {
   "cell_type": "code",
   "execution_count": 18,
   "metadata": {
    "collapsed": false
   },
   "outputs": [
    {
     "name": "stdout",
     "output_type": "stream",
     "text": [
      "Tate & Lyle boss bags top award\n",
      "\n",
      "Tate & Lyle's chief executive has been named European Businessman of the Year by a leading business magazine.\n"
     ]
    }
   ],
   "source": [
    "# print first line of the first file loaded\n",
    "print(\"\\n\".join(bbcdataset.data[0].split(\"\\n\")[:3]))"
   ]
  },
  {
   "cell_type": "code",
   "execution_count": 20,
   "metadata": {
    "collapsed": false
   },
   "outputs": [
    {
     "name": "stdout",
     "output_type": "stream",
     "text": [
      "0\n"
     ]
    }
   ],
   "source": [
    "# let print the target/class value of this file\n",
    "print(bbcdataset.target[0])\n",
    "\n",
    "# It prints 0 which is the index of the value \"business\" in bbcdataset.target_names attribute. "
   ]
  },
  {
   "cell_type": "code",
   "execution_count": 24,
   "metadata": {
    "collapsed": false
   },
   "outputs": [
    {
     "name": "stdout",
     "output_type": "stream",
     "text": [
      "business\n"
     ]
    }
   ],
   "source": [
    "print(bbcdataset.target_names[bbcdataset.target[0]])"
   ]
  },
  {
   "cell_type": "code",
   "execution_count": 25,
   "metadata": {
    "collapsed": false
   },
   "outputs": [
    {
     "data": {
      "text/plain": [
       "array([0, 4, 2, 3, 2, 2, 2, 4, 2, 3])"
      ]
     },
     "execution_count": 25,
     "metadata": {},
     "output_type": "execute_result"
    }
   ],
   "source": [
    "# print first 10 target values\n",
    "bbcdataset.target[:10]"
   ]
  },
  {
   "cell_type": "code",
   "execution_count": 26,
   "metadata": {
    "collapsed": false
   },
   "outputs": [
    {
     "name": "stdout",
     "output_type": "stream",
     "text": [
      "business\n",
      "tech\n",
      "politics\n",
      "sport\n",
      "politics\n",
      "politics\n",
      "politics\n",
      "tech\n",
      "politics\n",
      "sport\n"
     ]
    }
   ],
   "source": [
    "# Printing target value names for first 10 files\n",
    "for t in bbcdataset.target[:10]:\n",
    "    print(bbcdataset.target_names[t])"
   ]
  },
  {
   "cell_type": "markdown",
   "metadata": {},
   "source": [
    "## 2> Feature Extraction \n",
    "****\n",
    "This implemnetaion uses CountVectorizer class from the sklearn library to create a document-term matrix which is a high \n",
    "dimensional sparse matrix.Each text file is a row and columns are distinct words contained in all the text files combined. The \n",
    "matrix hold the count values for each word in the text file.Since most of the rows will have 0 values , the matrix is a sparse \n",
    "matrix which cannot be held in systems RAM and hence CountVectorizer  uses scipy.sparse which creates a sparse matrix."
   ]
  },
  {
   "cell_type": "code",
   "execution_count": 7,
   "metadata": {
    "collapsed": false
   },
   "outputs": [],
   "source": [
    "# The vectorized_data object created stores the data and target attribute along with other attributes like filename, \n",
    "# target_names etc\n",
    "CountVect = CountVectorizer()\n",
    "Vectorized_data = CountVect.fit_transform(bbcdataset.data)"
   ]
  },
  {
   "cell_type": "code",
   "execution_count": 29,
   "metadata": {
    "collapsed": false
   },
   "outputs": [
    {
     "data": {
      "text/plain": [
       "(2225, 29421)"
      ]
     },
     "execution_count": 29,
     "metadata": {},
     "output_type": "execute_result"
    }
   ],
   "source": [
    "# printing the shape of the sparse matrix Vectorized_data. It contains 2225 rows (total files) and 29421 (distinct words) columns.\n",
    "Vectorized_data.shape"
   ]
  },
  {
   "cell_type": "code",
   "execution_count": 41,
   "metadata": {
    "collapsed": false
   },
   "outputs": [
    {
     "data": {
      "text/plain": [
       "3210"
      ]
     },
     "execution_count": 41,
     "metadata": {},
     "output_type": "execute_result"
    }
   ],
   "source": [
    "# It is also possible to get a column index for a particualr word . Let say the word is \"\"award\"\"\n",
    "CountVect.vocabulary_.get(u'award')"
   ]
  },
  {
   "cell_type": "markdown",
   "metadata": {},
   "source": [
    "## 3.> TF - IDF Transformation \n",
    "****\n",
    "\n",
    "To downscale the words that are used in many documents and hence are less informative , we use another transformation method \n",
    "called TR-IDF transformation.\n",
    "Refer <html>https://en.wikipedia.org/wiki/Tf%E2%80%93idf</html> for more info\n",
    "    "
   ]
  },
  {
   "cell_type": "code",
   "execution_count": 43,
   "metadata": {
    "collapsed": false
   },
   "outputs": [],
   "source": [
    "# use the TfidfTransformer class to perform the transformation \n",
    "tf = TfidfTransformer(use_idf=False).fit(Vectorized_data)\n",
    "Vectorized_data_tf = tf.transform(Vectorized_data) \n"
   ]
  },
  {
   "cell_type": "code",
   "execution_count": 44,
   "metadata": {
    "collapsed": false
   },
   "outputs": [
    {
     "name": "stdout",
     "output_type": "stream",
     "text": [
      "(2225, 29421)\n"
     ]
    }
   ],
   "source": [
    "# print the shape of the tf idf transformed matrix\n",
    "print(Vectorized_data_tf.shape)"
   ]
  },
  {
   "cell_type": "code",
   "execution_count": 171,
   "metadata": {
    "collapsed": true
   },
   "outputs": [],
   "source": [
    "# vectorizer = TfidfVectorizer(sublinear_tf=True, max_df=0.5,\n",
    "#                                  stop_words='english')\n",
    "# X_words = vectorizer.fit_transform(bbcdataset.data)"
   ]
  },
  {
   "cell_type": "code",
   "execution_count": null,
   "metadata": {
    "collapsed": true
   },
   "outputs": [],
   "source": []
  },
  {
   "cell_type": "code",
   "execution_count": 45,
   "metadata": {
    "collapsed": true
   },
   "outputs": [],
   "source": [
    "# Split the matrix into 80 - 20 % for traning on 80% data and testing on 20 %.\n",
    "# Use the train_test_split to split the data. parameter test_size = 0.2 makes sure its 80-20 % split\n",
    "\n",
    "X_train, X_test, y_train, y_test = train_test_split(Vectorized_data_tf, bbcdataset.target, test_size=0.2, random_state=0)"
   ]
  },
  {
   "cell_type": "code",
   "execution_count": 46,
   "metadata": {
    "collapsed": false
   },
   "outputs": [
    {
     "name": "stdout",
     "output_type": "stream",
     "text": [
      "(1780, 29421)\n",
      "(1780,)\n",
      "(445, 29421)\n",
      "(445,)\n"
     ]
    }
   ],
   "source": [
    "# Size of the new matrices created\n",
    "print(X_train.shape)\n",
    "print(y_train.shape)\n",
    "print(X_test.shape)\n",
    "print(y_test.shape)\n"
   ]
  },
  {
   "cell_type": "code",
   "execution_count": 47,
   "metadata": {
    "collapsed": false
   },
   "outputs": [
    {
     "data": {
      "text/plain": [
       "Counter({0: 408, 1: 302, 2: 339, 3: 408, 4: 323})"
      ]
     },
     "execution_count": 47,
     "metadata": {},
     "output_type": "execute_result"
    }
   ],
   "source": [
    "# get the class distribution of the training data\n",
    "from collections import Counter\n",
    "Counter(y_train)"
   ]
  },
  {
   "cell_type": "code",
   "execution_count": 48,
   "metadata": {
    "collapsed": false
   },
   "outputs": [
    {
     "data": {
      "text/plain": [
       "Counter({0: 102, 1: 84, 2: 78, 3: 103, 4: 78})"
      ]
     },
     "execution_count": 48,
     "metadata": {},
     "output_type": "execute_result"
    }
   ],
   "source": [
    "# get the class distribution of the test class\n",
    "Counter(y_test)"
   ]
  },
  {
   "cell_type": "markdown",
   "metadata": {},
   "source": [
    "## 4.> Training a Classifier \n",
    "****\n",
    "\n",
    "+ Training data  : X_train\n",
    "\n",
    "+ Training Label : y_train\n",
    "\n",
    "+ Test data      : X_train\n",
    "\n",
    "+ Test Label     : y_train\n",
    "\n",
    "    \n",
    "Initially we'll be building a base mode by using following set of classifiers and then further exploit Naive Bayes \n",
    "and Support Vector machine as experimental suggest that NB and SVM works well with text classification process.\n",
    "SVM works great for sparse high dimensional data.\n",
    "\n",
    "+ Decision Trees\n",
    "\n",
    "+ Naive Bayes\n",
    "\n",
    "+ Logistic Regression\n",
    "\n",
    "+ Support Vector Machines\n",
    "\n",
    "+ Ensemble : Random Forrest\n",
    "\n",
    "+ Ensemble : Adaboost\n",
    "\n",
    "+ Gradient Boosting\n",
    "\n",
    "+ K- means clustering\n",
    "\n"
   ]
  },
  {
   "cell_type": "code",
   "execution_count": 50,
   "metadata": {
    "collapsed": false
   },
   "outputs": [],
   "source": [
    "# import the module from sklearn\n",
    "from sklearn import tree\n"
   ]
  },
  {
   "cell_type": "code",
   "execution_count": 54,
   "metadata": {
    "collapsed": true
   },
   "outputs": [],
   "source": [
    "# Fit the classifier on the training set\n",
    "tree_clf = tree.DecisionTreeClassifier()\n",
    "tree_clf = tree_clf.fit(X_train,y_train)"
   ]
  },
  {
   "cell_type": "code",
   "execution_count": 55,
   "metadata": {
    "collapsed": true
   },
   "outputs": [],
   "source": [
    "# Get predictions on the test set\n",
    "tree_predict = tree_clf.predict(X_test) "
   ]
  },
  {
   "cell_type": "code",
   "execution_count": 56,
   "metadata": {
    "collapsed": false
   },
   "outputs": [
    {
     "data": {
      "text/plain": [
       "0.79325842696629212"
      ]
     },
     "execution_count": 56,
     "metadata": {},
     "output_type": "execute_result"
    }
   ],
   "source": [
    "# calculate Accuracy\n",
    "np.mean(y_test == tree_predict)"
   ]
  },
  {
   "cell_type": "code",
   "execution_count": 57,
   "metadata": {
    "collapsed": true
   },
   "outputs": [],
   "source": [
    "# peroform 10 fold cross validation to get the average performance of the classifier\n",
    "from sklearn.model_selection import cross_val_score"
   ]
  },
  {
   "cell_type": "code",
   "execution_count": 58,
   "metadata": {
    "collapsed": false
   },
   "outputs": [
    {
     "data": {
      "text/plain": [
       "array([ 0.78333333,  0.80555556,  0.84357542,  0.81460674,  0.79213483,\n",
       "        0.79213483,  0.79775281,  0.83707865,  0.82954545,  0.76      ])"
      ]
     },
     "execution_count": 58,
     "metadata": {},
     "output_type": "execute_result"
    }
   ],
   "source": [
    "cross_val_score(tree_clf, X_train, y_train, cv=10)"
   ]
  },
  {
   "cell_type": "code",
   "execution_count": 59,
   "metadata": {
    "collapsed": true
   },
   "outputs": [],
   "source": [
    "# logistic regression \n",
    "\n",
    "from sklearn.linear_model import LogisticRegression"
   ]
  },
  {
   "cell_type": "code",
   "execution_count": 60,
   "metadata": {
    "collapsed": true
   },
   "outputs": [],
   "source": [
    "LR_clf = LogisticRegression()\n",
    "_ = LR_clf.fit(X_train,y_train)"
   ]
  },
  {
   "cell_type": "code",
   "execution_count": 61,
   "metadata": {
    "collapsed": true
   },
   "outputs": [],
   "source": [
    "LR_predict = LR_clf.predict(X_test)"
   ]
  },
  {
   "cell_type": "code",
   "execution_count": 62,
   "metadata": {
    "collapsed": false
   },
   "outputs": [
    {
     "data": {
      "text/plain": [
       "0.92808988764044942"
      ]
     },
     "execution_count": 62,
     "metadata": {},
     "output_type": "execute_result"
    }
   ],
   "source": [
    "np.mean(LR_predict== y_test)"
   ]
  },
  {
   "cell_type": "code",
   "execution_count": 63,
   "metadata": {
    "collapsed": false
   },
   "outputs": [
    {
     "data": {
      "text/plain": [
       "array([ 0.91666667,  0.93888889,  0.94972067,  0.86516854,  0.92134831,\n",
       "        0.91573034,  0.92696629,  0.93258427,  0.91477273,  0.91428571])"
      ]
     },
     "execution_count": 63,
     "metadata": {},
     "output_type": "execute_result"
    }
   ],
   "source": [
    "cross_val_score(LR_clf, X_train, y_train, cv=10)\n"
   ]
  },
  {
   "cell_type": "code",
   "execution_count": 64,
   "metadata": {
    "collapsed": true
   },
   "outputs": [],
   "source": [
    "# Using Bagging approach , random forrest classfier\n",
    "from sklearn.ensemble import RandomForestClassifier"
   ]
  },
  {
   "cell_type": "code",
   "execution_count": 65,
   "metadata": {
    "collapsed": true
   },
   "outputs": [],
   "source": [
    "randomforrest_clf = RandomForestClassifier()\n",
    "_ = randomforrest_clf.fit(X_train,y_train)"
   ]
  },
  {
   "cell_type": "code",
   "execution_count": 66,
   "metadata": {
    "collapsed": true
   },
   "outputs": [],
   "source": [
    "randomforrest_predict = randomforrest_clf.predict(X_test)"
   ]
  },
  {
   "cell_type": "code",
   "execution_count": 67,
   "metadata": {
    "collapsed": false
   },
   "outputs": [
    {
     "data": {
      "text/plain": [
       "0.86741573033707864"
      ]
     },
     "execution_count": 67,
     "metadata": {},
     "output_type": "execute_result"
    }
   ],
   "source": [
    "np.mean(randomforrest_predict == y_test)"
   ]
  },
  {
   "cell_type": "code",
   "execution_count": 68,
   "metadata": {
    "collapsed": false
   },
   "outputs": [
    {
     "data": {
      "text/plain": [
       "array([ 0.85555556,  0.86666667,  0.86592179,  0.91573034,  0.93258427,\n",
       "        0.90449438,  0.91011236,  0.87640449,  0.85795455,  0.82285714])"
      ]
     },
     "execution_count": 68,
     "metadata": {},
     "output_type": "execute_result"
    }
   ],
   "source": [
    "cross_val_score(randomforrest_clf, X_train, y_train, cv=10)"
   ]
  },
  {
   "cell_type": "code",
   "execution_count": 69,
   "metadata": {
    "collapsed": false
   },
   "outputs": [
    {
     "data": {
      "text/plain": [
       "0.95056179775280902"
      ]
     },
     "execution_count": 69,
     "metadata": {},
     "output_type": "execute_result"
    }
   ],
   "source": [
    "# incresing the number of trees to 100 from default 10\n",
    "randomforrest_clf = RandomForestClassifier(n_estimators = 100)\n",
    "_ = randomforrest_clf.fit(X_train,y_train)\n",
    "randomforrest_predict = randomforrest_clf.predict(X_test)\n",
    "np.mean(randomforrest_predict == y_test)"
   ]
  },
  {
   "cell_type": "code",
   "execution_count": 70,
   "metadata": {
    "collapsed": true
   },
   "outputs": [],
   "source": [
    "# using Adaboost classifier\n",
    "from sklearn.ensemble import AdaBoostClassifier"
   ]
  },
  {
   "cell_type": "code",
   "execution_count": 71,
   "metadata": {
    "collapsed": true
   },
   "outputs": [],
   "source": [
    "adaboost_clf = AdaBoostClassifier(n_estimators = 500)\n",
    "_ = adaboost_clf.fit(X_train,y_train)"
   ]
  },
  {
   "cell_type": "code",
   "execution_count": 72,
   "metadata": {
    "collapsed": true
   },
   "outputs": [],
   "source": [
    "adaboost_predict = adaboost_clf.predict(X_test)"
   ]
  },
  {
   "cell_type": "code",
   "execution_count": 73,
   "metadata": {
    "collapsed": false
   },
   "outputs": [
    {
     "data": {
      "text/plain": [
       "0.86292134831460676"
      ]
     },
     "execution_count": 73,
     "metadata": {},
     "output_type": "execute_result"
    }
   ],
   "source": [
    "np.mean(adaboost_predict == y_test)"
   ]
  },
  {
   "cell_type": "code",
   "execution_count": 74,
   "metadata": {
    "collapsed": true
   },
   "outputs": [],
   "source": [
    "# with n_estimators  = 100 acuracy is just 80 "
   ]
  },
  {
   "cell_type": "code",
   "execution_count": 75,
   "metadata": {
    "collapsed": true
   },
   "outputs": [],
   "source": [
    "# using gradient boosting\n",
    "from sklearn.ensemble import GradientBoostingClassifier"
   ]
  },
  {
   "cell_type": "code",
   "execution_count": 79,
   "metadata": {
    "collapsed": false
   },
   "outputs": [],
   "source": [
    "gb_clf = GradientBoostingClassifier(n_estimators = 100)\n",
    "_ = gb_clf.fit(X_train,y_train)"
   ]
  },
  {
   "cell_type": "code",
   "execution_count": 80,
   "metadata": {
    "collapsed": true
   },
   "outputs": [],
   "source": [
    "gb_predict = gb_clf.predict(X_test.toarray())"
   ]
  },
  {
   "cell_type": "code",
   "execution_count": 81,
   "metadata": {
    "collapsed": false
   },
   "outputs": [
    {
     "data": {
      "text/plain": [
       "0.95280898876404496"
      ]
     },
     "execution_count": 81,
     "metadata": {},
     "output_type": "execute_result"
    }
   ],
   "source": [
    "np.mean(gb_predict == y_test)"
   ]
  },
  {
   "cell_type": "code",
   "execution_count": 82,
   "metadata": {
    "collapsed": false
   },
   "outputs": [],
   "source": [
    "# Training Naive Bayes Classifier\n",
    "nb_clf = MultinomialNB().fit(X_train,y_train)\n"
   ]
  },
  {
   "cell_type": "code",
   "execution_count": 83,
   "metadata": {
    "collapsed": false
   },
   "outputs": [],
   "source": [
    "nb_predict = nb_clf.predict(X_test)"
   ]
  },
  {
   "cell_type": "code",
   "execution_count": 84,
   "metadata": {
    "collapsed": false
   },
   "outputs": [
    {
     "data": {
      "text/plain": [
       "0.84269662921348309"
      ]
     },
     "execution_count": 84,
     "metadata": {},
     "output_type": "execute_result"
    }
   ],
   "source": [
    "np.mean(nb_predict == y_test)        "
   ]
  },
  {
   "cell_type": "code",
   "execution_count": 85,
   "metadata": {
    "collapsed": false
   },
   "outputs": [],
   "source": [
    "# furher exploiting Naive Bayes\n",
    "from sklearn import metrics"
   ]
  },
  {
   "cell_type": "code",
   "execution_count": 86,
   "metadata": {
    "collapsed": false
   },
   "outputs": [
    {
     "name": "stdout",
     "output_type": "stream",
     "text": [
      "               precision    recall  f1-score   support\n",
      "\n",
      "     business       0.77      0.98      0.86       102\n",
      "entertainment       0.97      0.44      0.61        84\n",
      "     politics       0.99      0.86      0.92        78\n",
      "        sport       0.74      1.00      0.85       103\n",
      "         tech       0.97      0.87      0.92        78\n",
      "\n",
      "  avg / total       0.87      0.84      0.83       445\n",
      "\n"
     ]
    }
   ],
   "source": [
    "print(metrics.classification_report(y_test, nb_predict,\n",
    "...     target_names=bbcdataset.target_names))"
   ]
  },
  {
   "cell_type": "code",
   "execution_count": 87,
   "metadata": {
    "collapsed": false
   },
   "outputs": [
    {
     "data": {
      "text/plain": [
       "array([[100,   0,   0,   1,   1],\n",
       "       [ 17,  37,   0,  29,   1],\n",
       "       [  7,   0,  67,   4,   0],\n",
       "       [  0,   0,   0, 103,   0],\n",
       "       [  6,   1,   1,   2,  68]])"
      ]
     },
     "execution_count": 87,
     "metadata": {},
     "output_type": "execute_result"
    }
   ],
   "source": [
    "metrics.confusion_matrix(y_test, nb_predict)"
   ]
  },
  {
   "cell_type": "code",
   "execution_count": 90,
   "metadata": {
    "collapsed": false
   },
   "outputs": [
    {
     "data": {
      "text/plain": [
       "array([ 0.81111111,  0.83888889,  0.82681564,  0.79213483,  0.84831461,\n",
       "        0.81460674,  0.84831461,  0.80337079,  0.80681818,  0.76571429])"
      ]
     },
     "execution_count": 90,
     "metadata": {},
     "output_type": "execute_result"
    }
   ],
   "source": [
    "cross_val_score(nb_clf,X_train,y_train,cv = 10)"
   ]
  },
  {
   "cell_type": "code",
   "execution_count": 91,
   "metadata": {
    "collapsed": true
   },
   "outputs": [],
   "source": [
    "scores = cross_val_score(nb_clf,X_train,y_train,cv = 10)"
   ]
  },
  {
   "cell_type": "code",
   "execution_count": 92,
   "metadata": {
    "collapsed": false
   },
   "outputs": [
    {
     "name": "stdout",
     "output_type": "stream",
     "text": [
      "Accuracy: 0.82 (+/- 0.05)\n"
     ]
    }
   ],
   "source": [
    "print(\"Accuracy: %0.2f (+/- %0.2f)\" % (scores.mean(), scores.std() * 2))"
   ]
  },
  {
   "cell_type": "code",
   "execution_count": 93,
   "metadata": {
    "collapsed": false
   },
   "outputs": [],
   "source": [
    "# Tweaking the value of parameter alpha we can achieve greater acuracy , but the model might be prone to overfitting\n",
    "alpha_values = [1,0.8,0.5,0.1]\n",
    "score_values = []\n",
    "for alpha in alpha_values:\n",
    "    nb_classifier = MultinomialNB(alpha = alpha)\n",
    "    scores = cross_val_score(nb_classifier,X_train,y_train,cv = 10)\n",
    "    score_values.append(scores.mean())"
   ]
  },
  {
   "cell_type": "code",
   "execution_count": 94,
   "metadata": {
    "collapsed": false
   },
   "outputs": [
    {
     "name": "stdout",
     "output_type": "stream",
     "text": [
      "Mean score for alpha : 1.00  =  81.56 % \n",
      "Mean score for alpha : 0.80  =  83.13 % \n",
      "Mean score for alpha : 0.50  =  87.63 % \n",
      "Mean score for alpha : 0.10  =  96.12 % \n"
     ]
    }
   ],
   "source": [
    "for alpha_val,score_val in zip(alpha_values,score_values):\n",
    "#     score_val = round(score_val*100,2)\n",
    "    print(\"Mean score for alpha : %0.2f  =  %0.2f %% \" %(alpha_val ,score_val*100))\n",
    "\n",
    "    \n",
    "# as seen the accuracy increases as the value of alpha keeps decresing , But the it is more prone to overfitting ."
   ]
  },
  {
   "cell_type": "code",
   "execution_count": 95,
   "metadata": {
    "collapsed": true
   },
   "outputs": [],
   "source": [
    "score_list = ['accuracy','f1_macro','precision_macro','recall_macro']\n",
    "             \n",
    "score_values = []\n",
    "for score_val in score_list:\n",
    "    nb_classifier = MultinomialNB(alpha = 0.5)\n",
    "    scores = cross_val_score(nb_classifier,X_train,y_train,cv = 10,scoring = score_val)\n",
    "    score_values.append(scores.mean())"
   ]
  },
  {
   "cell_type": "code",
   "execution_count": 96,
   "metadata": {
    "collapsed": false
   },
   "outputs": [
    {
     "name": "stdout",
     "output_type": "stream",
     "text": [
      "Mean score using scoring parameter accuracy  =  87.63 % \n",
      "Mean score using scoring parameter f1_macro  =  86.37 % \n",
      "Mean score using scoring parameter precision_macro  =  90.73 % \n",
      "Mean score using scoring parameter recall_macro  =  85.93 % \n"
     ]
    }
   ],
   "source": [
    "for score_param,accuracy in zip(score_list,score_values):\n",
    "    print(\"Mean score using scoring parameter %s  =  %0.2f %% \" %(score_param ,accuracy*100))"
   ]
  },
  {
   "cell_type": "code",
   "execution_count": null,
   "metadata": {
    "collapsed": true
   },
   "outputs": [],
   "source": [
    "# since the data set is balanced for the target class , the accuracy and f1_macro scores are almost same"
   ]
  },
  {
   "cell_type": "code",
   "execution_count": 98,
   "metadata": {
    "collapsed": false
   },
   "outputs": [],
   "source": [
    "# using SVM classifier with SGD training\n",
    "from sklearn.linear_model import SGDClassifier\n",
    "from sklearn.pipeline import Pipeline"
   ]
  },
  {
   "cell_type": "code",
   "execution_count": 99,
   "metadata": {
    "collapsed": false
   },
   "outputs": [],
   "source": [
    "from sklearn import linear_model\n"
   ]
  },
  {
   "cell_type": "code",
   "execution_count": 100,
   "metadata": {
    "collapsed": false
   },
   "outputs": [],
   "source": [
    "svm_clf = linear_model.SGDClassifier(loss='hinge', penalty='l2',\n",
    "...                                            alpha=1e-3, n_iter=5, random_state=42)"
   ]
  },
  {
   "cell_type": "code",
   "execution_count": 105,
   "metadata": {
    "collapsed": false
   },
   "outputs": [],
   "source": [
    "# _ = svm_clf.fit(X_train,y_train)\n",
    "_ = svm_clf.fit(X_train,y_train)\n"
   ]
  },
  {
   "cell_type": "code",
   "execution_count": 106,
   "metadata": {
    "collapsed": false
   },
   "outputs": [],
   "source": [
    "svm_predict = svm_clf.predict(X_test)"
   ]
  },
  {
   "cell_type": "code",
   "execution_count": 107,
   "metadata": {
    "collapsed": false
   },
   "outputs": [
    {
     "data": {
      "text/plain": [
       "0.9550561797752809"
      ]
     },
     "execution_count": 107,
     "metadata": {},
     "output_type": "execute_result"
    }
   ],
   "source": [
    "np.mean(y_test == svm_predict)  "
   ]
  },
  {
   "cell_type": "code",
   "execution_count": 108,
   "metadata": {
    "collapsed": false
   },
   "outputs": [
    {
     "name": "stdout",
     "output_type": "stream",
     "text": [
      "               precision    recall  f1-score   support\n",
      "\n",
      "     business       0.95      0.92      0.94       102\n",
      "entertainment       0.99      0.92      0.95        84\n",
      "     politics       0.92      0.99      0.95        78\n",
      "        sport       0.99      0.98      0.99       103\n",
      "         tech       0.93      0.97      0.95        78\n",
      "\n",
      "  avg / total       0.96      0.96      0.96       445\n",
      "\n"
     ]
    }
   ],
   "source": [
    "print(metrics.classification_report(y_test, svm_predict,\n",
    "...     target_names=bbcdataset.target_names))"
   ]
  },
  {
   "cell_type": "code",
   "execution_count": 109,
   "metadata": {
    "collapsed": false
   },
   "outputs": [
    {
     "data": {
      "text/plain": [
       "array([[ 94,   0,   5,   0,   3],\n",
       "       [  3,  77,   2,   0,   2],\n",
       "       [  0,   0,  77,   1,   0],\n",
       "       [  1,   0,   0, 101,   1],\n",
       "       [  1,   1,   0,   0,  76]])"
      ]
     },
     "execution_count": 109,
     "metadata": {},
     "output_type": "execute_result"
    }
   ],
   "source": [
    "metrics.confusion_matrix(y_test, svm_predict)"
   ]
  },
  {
   "cell_type": "code",
   "execution_count": 110,
   "metadata": {
    "collapsed": true
   },
   "outputs": [],
   "source": [
    "# performing Grid search for tuning the parameters\n",
    "from sklearn.model_selection import GridSearchCV"
   ]
  },
  {
   "cell_type": "code",
   "execution_count": 111,
   "metadata": {
    "collapsed": true
   },
   "outputs": [],
   "source": [
    "# input gird of set of parameters\n",
    "parameters = {'alpha': (0.00001, 0.000001,0.0001 ),'penalty': ('l2', 'elasticnet'),'n_iter': (10, 50, 80)}"
   ]
  },
  {
   "cell_type": "code",
   "execution_count": 112,
   "metadata": {
    "collapsed": true
   },
   "outputs": [],
   "source": [
    "gs_svm_clf = GridSearchCV(svm_clf, parameters, n_jobs=-1)"
   ]
  },
  {
   "cell_type": "code",
   "execution_count": 113,
   "metadata": {
    "collapsed": false
   },
   "outputs": [],
   "source": [
    "gs_svm_clf = gs_svm_clf.fit(X_train, y_train)"
   ]
  },
  {
   "cell_type": "code",
   "execution_count": 114,
   "metadata": {
    "collapsed": false
   },
   "outputs": [
    {
     "data": {
      "text/plain": [
       "sklearn.model_selection._search.GridSearchCV"
      ]
     },
     "execution_count": 114,
     "metadata": {},
     "output_type": "execute_result"
    }
   ],
   "source": [
    "type(gs_svm_clf)"
   ]
  },
  {
   "cell_type": "code",
   "execution_count": 115,
   "metadata": {
    "collapsed": false
   },
   "outputs": [
    {
     "data": {
      "text/plain": [
       "{'alpha': 1e-05, 'n_iter': 10, 'penalty': 'elasticnet'}"
      ]
     },
     "execution_count": 115,
     "metadata": {},
     "output_type": "execute_result"
    }
   ],
   "source": [
    "# getting the best parameters\n",
    "gs_svm_clf.best_params_"
   ]
  },
  {
   "cell_type": "code",
   "execution_count": 118,
   "metadata": {
    "collapsed": false
   },
   "outputs": [],
   "source": [
    "gs_svm_predict = gs_svm_clf.predict(X_test)"
   ]
  },
  {
   "cell_type": "code",
   "execution_count": 119,
   "metadata": {
    "collapsed": false
   },
   "outputs": [
    {
     "data": {
      "text/plain": [
       "0.9662921348314607"
      ]
     },
     "execution_count": 119,
     "metadata": {},
     "output_type": "execute_result"
    }
   ],
   "source": [
    "np.mean(y_test == gs_svm_predict)"
   ]
  },
  {
   "cell_type": "code",
   "execution_count": 120,
   "metadata": {
    "collapsed": false
   },
   "outputs": [
    {
     "data": {
      "text/plain": [
       "0.97022471910112362"
      ]
     },
     "execution_count": 120,
     "metadata": {},
     "output_type": "execute_result"
    }
   ],
   "source": [
    "gs_svm_clf.best_score_ "
   ]
  },
  {
   "cell_type": "code",
   "execution_count": 122,
   "metadata": {
    "collapsed": false
   },
   "outputs": [
    {
     "data": {
      "text/plain": [
       "{'mean_fit_time': array([ 0.08247431,  0.23329107,  0.51219551,  2.00031837,  0.71991396,\n",
       "         3.2230703 ,  0.29411554,  0.59307718,  0.51904766,  2.02622128,\n",
       "         0.72776834,  3.15656026,  0.30681578,  0.55380599,  0.55564396,\n",
       "         2.08771801,  0.82369002,  1.87966474]),\n",
       " 'mean_score_time': array([ 0.        ,  0.00350897,  0.0040106 ,  0.00401115,  0.00367626,\n",
       "         0.00367641,  0.00367641,  0.00350912,  0.00401028,  0.01570916,\n",
       "         0.00367649,  0.0035092 ,  0.00384363,  0.00350928,  0.00367641,\n",
       "         0.00350976,  0.00350936,  0.00267394]),\n",
       " 'mean_test_score': array([ 0.96629213,  0.97022472,  0.96741573,  0.96685393,  0.96629213,\n",
       "         0.96685393,  0.96404494,  0.96179775,  0.96404494,  0.95674157,\n",
       "         0.96629213,  0.96235955,  0.96292135,  0.96741573,  0.96910112,\n",
       "         0.96910112,  0.96853933,  0.96910112]),\n",
       " 'mean_train_score': array([ 1.        ,  1.        ,  1.        ,  1.        ,  1.        ,\n",
       "         1.        ,  1.        ,  1.        ,  1.        ,  1.        ,\n",
       "         1.        ,  1.        ,  0.99971894,  0.99915683,  1.        ,\n",
       "         1.        ,  1.        ,  1.        ]),\n",
       " 'param_alpha': masked_array(data = [1e-05 1e-05 1e-05 1e-05 1e-05 1e-05 1e-06 1e-06 1e-06 1e-06 1e-06 1e-06\n",
       "  0.0001 0.0001 0.0001 0.0001 0.0001 0.0001],\n",
       "              mask = [False False False False False False False False False False False False\n",
       "  False False False False False False],\n",
       "        fill_value = ?),\n",
       " 'param_n_iter': masked_array(data = [10 10 50 50 80 80 10 10 50 50 80 80 10 10 50 50 80 80],\n",
       "              mask = [False False False False False False False False False False False False\n",
       "  False False False False False False],\n",
       "        fill_value = ?),\n",
       " 'param_penalty': masked_array(data = ['l2' 'elasticnet' 'l2' 'elasticnet' 'l2' 'elasticnet' 'l2' 'elasticnet'\n",
       "  'l2' 'elasticnet' 'l2' 'elasticnet' 'l2' 'elasticnet' 'l2' 'elasticnet'\n",
       "  'l2' 'elasticnet'],\n",
       "              mask = [False False False False False False False False False False False False\n",
       "  False False False False False False],\n",
       "        fill_value = ?),\n",
       " 'params': ({'alpha': 1e-05, 'n_iter': 10, 'penalty': 'l2'},\n",
       "  {'alpha': 1e-05, 'n_iter': 10, 'penalty': 'elasticnet'},\n",
       "  {'alpha': 1e-05, 'n_iter': 50, 'penalty': 'l2'},\n",
       "  {'alpha': 1e-05, 'n_iter': 50, 'penalty': 'elasticnet'},\n",
       "  {'alpha': 1e-05, 'n_iter': 80, 'penalty': 'l2'},\n",
       "  {'alpha': 1e-05, 'n_iter': 80, 'penalty': 'elasticnet'},\n",
       "  {'alpha': 1e-06, 'n_iter': 10, 'penalty': 'l2'},\n",
       "  {'alpha': 1e-06, 'n_iter': 10, 'penalty': 'elasticnet'},\n",
       "  {'alpha': 1e-06, 'n_iter': 50, 'penalty': 'l2'},\n",
       "  {'alpha': 1e-06, 'n_iter': 50, 'penalty': 'elasticnet'},\n",
       "  {'alpha': 1e-06, 'n_iter': 80, 'penalty': 'l2'},\n",
       "  {'alpha': 1e-06, 'n_iter': 80, 'penalty': 'elasticnet'},\n",
       "  {'alpha': 0.0001, 'n_iter': 10, 'penalty': 'l2'},\n",
       "  {'alpha': 0.0001, 'n_iter': 10, 'penalty': 'elasticnet'},\n",
       "  {'alpha': 0.0001, 'n_iter': 50, 'penalty': 'l2'},\n",
       "  {'alpha': 0.0001, 'n_iter': 50, 'penalty': 'elasticnet'},\n",
       "  {'alpha': 0.0001, 'n_iter': 80, 'penalty': 'l2'},\n",
       "  {'alpha': 0.0001, 'n_iter': 80, 'penalty': 'elasticnet'}),\n",
       " 'rank_test_score': array([10,  1,  6,  8, 10,  8, 13, 17, 13, 18, 10, 16, 15,  6,  2,  2,  5,\n",
       "         2]),\n",
       " 'split0_test_score': array([ 0.97474747,  0.98148148,  0.97643098,  0.97474747,  0.97643098,\n",
       "         0.97979798,  0.97643098,  0.97306397,  0.97474747,  0.97306397,\n",
       "         0.97474747,  0.97306397,  0.97138047,  0.96969697,  0.97811448,\n",
       "         0.97811448,  0.97811448,  0.97643098]),\n",
       " 'split0_train_score': array([ 1.        ,  1.        ,  1.        ,  1.        ,  1.        ,\n",
       "         1.        ,  1.        ,  1.        ,  1.        ,  1.        ,\n",
       "         1.        ,  1.        ,  0.99915683,  0.99831366,  1.        ,\n",
       "         1.        ,  1.        ,  1.        ]),\n",
       " 'split1_test_score': array([ 0.96801347,  0.96969697,  0.96632997,  0.96632997,  0.96296296,\n",
       "         0.96127946,  0.96127946,  0.95286195,  0.95454545,  0.94107744,\n",
       "         0.95959596,  0.95622896,  0.96632997,  0.96632997,  0.96296296,\n",
       "         0.96464646,  0.96127946,  0.96464646]),\n",
       " 'split1_train_score': array([ 1.        ,  1.        ,  1.        ,  1.        ,  1.        ,\n",
       "         1.        ,  1.        ,  1.        ,  1.        ,  1.        ,\n",
       "         1.        ,  1.        ,  1.        ,  0.99915683,  1.        ,\n",
       "         1.        ,  1.        ,  1.        ]),\n",
       " 'split2_test_score': array([ 0.95608108,  0.95945946,  0.95945946,  0.95945946,  0.95945946,\n",
       "         0.95945946,  0.95439189,  0.95945946,  0.96283784,  0.95608108,\n",
       "         0.96452703,  0.95777027,  0.95101351,  0.96621622,  0.96621622,\n",
       "         0.96452703,  0.96621622,  0.96621622]),\n",
       " 'split2_train_score': array([ 1.,  1.,  1.,  1.,  1.,  1.,  1.,  1.,  1.,  1.,  1.,  1.,  1.,\n",
       "         1.,  1.,  1.,  1.,  1.]),\n",
       " 'std_fit_time': array([ 0.01549784,  0.03219226,  0.10327321,  0.04855614,  0.05697695,\n",
       "         0.02235684,  0.01547594,  0.04877131,  0.00209991,  0.0297057 ,\n",
       "         0.0098268 ,  0.06811412,  0.01514526,  0.02185053,  0.03641574,\n",
       "         0.00426028,  0.01076021,  0.11449475]),\n",
       " 'std_score_time': array([  0.00000000e+00,   1.12391596e-07,   2.97360213e-07,\n",
       "          3.37174788e-07,   2.36134743e-04,   2.36696781e-04,\n",
       "          2.36528134e-04,   4.05233662e-07,   1.40826266e-06,\n",
       "          1.69002691e-02,   2.36471918e-04,   1.12391596e-07,\n",
       "          2.36584390e-04,   1.94667955e-07,   2.36359526e-04,\n",
       "          3.89335909e-07,   1.12391596e-07,   2.36303511e-04]),\n",
       " 'std_test_score': array([ 0.00771515,  0.00899567,  0.00696913,  0.00625055,  0.00731637,\n",
       "         0.0091906 ,  0.00920534,  0.00841554,  0.00829595,  0.0130741 ,\n",
       "         0.00631324,  0.00760162,  0.00865538,  0.00161511,  0.0065155 ,\n",
       "         0.00637896,  0.00706956,  0.00522677]),\n",
       " 'std_train_score': array([ 0.        ,  0.        ,  0.        ,  0.        ,  0.        ,\n",
       "         0.        ,  0.        ,  0.        ,  0.        ,  0.        ,\n",
       "         0.        ,  0.        ,  0.00039747,  0.00068845,  0.        ,\n",
       "         0.        ,  0.        ,  0.        ])}"
      ]
     },
     "execution_count": 122,
     "metadata": {},
     "output_type": "execute_result"
    }
   ],
   "source": [
    "# Entire result set of the Grid search approach. By deafut it uses 3-fold cross validation\n",
    "gs_svm_clf.cv_results_"
   ]
  },
  {
   "cell_type": "code",
   "execution_count": 124,
   "metadata": {
    "collapsed": true
   },
   "outputs": [],
   "source": [
    "from sklearn import svm"
   ]
  },
  {
   "cell_type": "code",
   "execution_count": 125,
   "metadata": {
    "collapsed": false
   },
   "outputs": [],
   "source": [
    "parameters  = [\n",
    "  {'C': [1, 10, 100, 1000], 'kernel': ['linear']},\n",
    "  {'C': [1, 10, 100, 1000], 'gamma': [0.001, 0.0001], 'kernel': ['rbf']}\n",
    " ]\n",
    "\n",
    "svr = svm.SVC()\n",
    "svm_classifier = GridSearchCV(svr, parameters,n_jobs=-1,cv = 5)"
   ]
  },
  {
   "cell_type": "code",
   "execution_count": 126,
   "metadata": {
    "collapsed": true
   },
   "outputs": [],
   "source": [
    "svm_classifier = svm_classifier.fit(X_train,y_train)"
   ]
  },
  {
   "cell_type": "code",
   "execution_count": 128,
   "metadata": {
    "collapsed": false
   },
   "outputs": [
    {
     "data": {
      "text/plain": [
       "0.96741573033707862"
      ]
     },
     "execution_count": 128,
     "metadata": {},
     "output_type": "execute_result"
    }
   ],
   "source": [
    " svm_classifier.best_score_ "
   ]
  },
  {
   "cell_type": "code",
   "execution_count": 129,
   "metadata": {
    "collapsed": false
   },
   "outputs": [],
   "source": [
    "svm_best_predict = svm_classifier.predict(X_test)"
   ]
  },
  {
   "cell_type": "code",
   "execution_count": 130,
   "metadata": {
    "collapsed": false
   },
   "outputs": [
    {
     "data": {
      "text/plain": [
       "0.96404494382022476"
      ]
     },
     "execution_count": 130,
     "metadata": {},
     "output_type": "execute_result"
    }
   ],
   "source": [
    "np.mean(y_test == svm_best_predict)"
   ]
  },
  {
   "cell_type": "markdown",
   "metadata": {
    "collapsed": true
   },
   "source": [
    "## 6.> K - means clustering\n",
    "****\n",
    "\n"
   ]
  },
  {
   "cell_type": "code",
   "execution_count": 137,
   "metadata": {
    "collapsed": false
   },
   "outputs": [],
   "source": [
    "# K means for bbc dataset\n",
    "from sklearn import datasets\n",
    "from sklearn.feature_extraction.text import TfidfVectorizer\n",
    "from sklearn.feature_extraction.text import TfidfTransformer\n",
    "from sklearn.feature_extraction.text import HashingVectorizer\n",
    "from sklearn.pipeline import make_pipeline\n",
    "from sklearn.cluster import KMeans,MiniBatchKMeans\n",
    "import numpy as np\n",
    "from sklearn.model_selection import train_test_split\n",
    "from sklearn import metrics\n",
    "\n",
    "\n",
    "\n"
   ]
  },
  {
   "cell_type": "code",
   "execution_count": 138,
   "metadata": {
    "collapsed": true
   },
   "outputs": [],
   "source": [
    "# bbcfilespath =  \"C:\\\\Users\\\\Kushal Kokje\\\\Documents\\\\bbc\"\n",
    "bbcfilespath = \"C:\\\\Users\\\\Kushal Kokje\\\\Documents\\\\bbc-kmeans\"\n"
   ]
  },
  {
   "cell_type": "code",
   "execution_count": 139,
   "metadata": {
    "collapsed": true
   },
   "outputs": [],
   "source": [
    "bbcdataset = datasets.load_files(bbcfilespath,encoding = 'utf-8',decode_error = 'ignore')"
   ]
  },
  {
   "cell_type": "code",
   "execution_count": 140,
   "metadata": {
    "collapsed": false
   },
   "outputs": [
    {
     "data": {
      "text/plain": [
       "272"
      ]
     },
     "execution_count": 140,
     "metadata": {},
     "output_type": "execute_result"
    }
   ],
   "source": [
    "len(bbcdataset.data)"
   ]
  },
  {
   "cell_type": "code",
   "execution_count": 141,
   "metadata": {
    "collapsed": false
   },
   "outputs": [
    {
     "data": {
      "text/plain": [
       "5"
      ]
     },
     "execution_count": 141,
     "metadata": {},
     "output_type": "execute_result"
    }
   ],
   "source": [
    "labels = bbcdataset.target\n",
    "true_k = np.unique(labels).shape[0]\n",
    "true_k\n",
    "\n",
    "\n"
   ]
  },
  {
   "cell_type": "code",
   "execution_count": 142,
   "metadata": {
    "collapsed": false
   },
   "outputs": [],
   "source": [
    "hasher = HashingVectorizer(stop_words='english',\n",
    "                           lowercase=True,non_negative=False, norm='l2',binary=False)\n",
    "vectorizer = make_pipeline(hasher, TfidfTransformer())\n",
    "\n"
   ]
  },
  {
   "cell_type": "code",
   "execution_count": 143,
   "metadata": {
    "collapsed": false
   },
   "outputs": [],
   "source": [
    "X = vectorizer.fit_transform(bbcdataset.data)\n",
    "# X = vectorizer.fit_transform(X_test)"
   ]
  },
  {
   "cell_type": "code",
   "execution_count": 144,
   "metadata": {
    "collapsed": false
   },
   "outputs": [
    {
     "data": {
      "text/plain": [
       "(272, 1048576)"
      ]
     },
     "execution_count": 144,
     "metadata": {},
     "output_type": "execute_result"
    }
   ],
   "source": [
    "X.shape # y_test is the target"
   ]
  },
  {
   "cell_type": "code",
   "execution_count": 145,
   "metadata": {
    "collapsed": false
   },
   "outputs": [],
   "source": [
    "km = KMeans(n_clusters=true_k,n_jobs=-1)#, init='k-means++', max_iter=100, n_init=1,verbose=5,n_jobs=-1)"
   ]
  },
  {
   "cell_type": "code",
   "execution_count": 146,
   "metadata": {
    "collapsed": false
   },
   "outputs": [
    {
     "data": {
      "text/plain": [
       "KMeans(algorithm='auto', copy_x=True, init='k-means++', max_iter=300,\n",
       "    n_clusters=5, n_init=10, n_jobs=-1, precompute_distances='auto',\n",
       "    random_state=None, tol=0.0001, verbose=0)"
      ]
     },
     "execution_count": 146,
     "metadata": {},
     "output_type": "execute_result"
    }
   ],
   "source": [
    "km.fit(X)"
   ]
  },
  {
   "cell_type": "code",
   "execution_count": 147,
   "metadata": {
    "collapsed": false
   },
   "outputs": [
    {
     "name": "stdout",
     "output_type": "stream",
     "text": [
      "Homogeneity: 0.518\n"
     ]
    }
   ],
   "source": [
    "print(\"Homogeneity: %0.3f\" % metrics.homogeneity_score(labels, km.labels_))"
   ]
  },
  {
   "cell_type": "code",
   "execution_count": 148,
   "metadata": {
    "collapsed": false
   },
   "outputs": [
    {
     "name": "stdout",
     "output_type": "stream",
     "text": [
      "Homogeneity: 0.518\n",
      "Completeness: 0.557\n",
      "V-measure: 0.536\n",
      "Adjusted Rand-Index: 0.393\n",
      "Silhouette Coefficient: 0.016\n"
     ]
    }
   ],
   "source": [
    "print(\"Homogeneity: %0.3f\" % metrics.homogeneity_score(labels, km.labels_))\n",
    "print(\"Completeness: %0.3f\" % metrics.completeness_score(labels, km.labels_))\n",
    "print(\"V-measure: %0.3f\" % metrics.v_measure_score(labels, km.labels_))\n",
    "print(\"Adjusted Rand-Index: %.3f\"\n",
    "      % metrics.adjusted_rand_score(labels, km.labels_))\n",
    "print(\"Silhouette Coefficient: %0.3f\"\n",
    "      % metrics.silhouette_score(X, km.labels_, sample_size=1000))"
   ]
  },
  {
   "cell_type": "code",
   "execution_count": 149,
   "metadata": {
    "collapsed": false
   },
   "outputs": [],
   "source": [
    "clusters = km.labels_.tolist()"
   ]
  },
  {
   "cell_type": "code",
   "execution_count": 150,
   "metadata": {
    "collapsed": false
   },
   "outputs": [
    {
     "data": {
      "text/plain": [
       "4"
      ]
     },
     "execution_count": 150,
     "metadata": {},
     "output_type": "execute_result"
    }
   ],
   "source": [
    "bbcdataset.target[0]"
   ]
  },
  {
   "cell_type": "code",
   "execution_count": 151,
   "metadata": {
    "collapsed": false
   },
   "outputs": [
    {
     "name": "stdout",
     "output_type": "stream",
     "text": [
      "[1 1 4 2 1 4 0 4 4 1]\n"
     ]
    }
   ],
   "source": [
    "print(km.labels_[:10])"
   ]
  },
  {
   "cell_type": "code",
   "execution_count": 152,
   "metadata": {
    "collapsed": false
   },
   "outputs": [
    {
     "name": "stdout",
     "output_type": "stream",
     "text": [
      "[4 4 3 2 4 3 1 3 1 4]\n"
     ]
    }
   ],
   "source": [
    "print(bbcdataset.target[:10])"
   ]
  },
  {
   "cell_type": "code",
   "execution_count": 153,
   "metadata": {
    "collapsed": false
   },
   "outputs": [],
   "source": [
    "cnt = [ a for a, b in zip(list(km.labels_),list(bbcdataset.target)) if a != b ] \n",
    "    "
   ]
  },
  {
   "cell_type": "code",
   "execution_count": 154,
   "metadata": {
    "collapsed": false
   },
   "outputs": [
    {
     "data": {
      "text/plain": [
       "[1, 1, 4, 2, 1, 4, 0, 4, 4, 1]"
      ]
     },
     "execution_count": 154,
     "metadata": {},
     "output_type": "execute_result"
    }
   ],
   "source": [
    "list(km.labels_[:10])"
   ]
  },
  {
   "cell_type": "code",
   "execution_count": 155,
   "metadata": {
    "collapsed": false
   },
   "outputs": [
    {
     "data": {
      "text/plain": [
       "201"
      ]
     },
     "execution_count": 155,
     "metadata": {},
     "output_type": "execute_result"
    }
   ],
   "source": [
    "len(cnt)"
   ]
  },
  {
   "cell_type": "markdown",
   "metadata": {},
   "source": [
    "Save the model for later using joblib.dump"
   ]
  },
  {
   "cell_type": "code",
   "execution_count": 156,
   "metadata": {
    "collapsed": true
   },
   "outputs": [],
   "source": [
    "from sklearn.externals import joblib"
   ]
  },
  {
   "cell_type": "code",
   "execution_count": 157,
   "metadata": {
    "collapsed": false
   },
   "outputs": [
    {
     "data": {
      "text/plain": [
       "['doc_cluster.pkl']"
      ]
     },
     "execution_count": 157,
     "metadata": {},
     "output_type": "execute_result"
    }
   ],
   "source": [
    "joblib.dump(km,  'doc_cluster.pkl')"
   ]
  },
  {
   "cell_type": "code",
   "execution_count": 158,
   "metadata": {
    "collapsed": true
   },
   "outputs": [],
   "source": [
    "km = joblib.load('doc_cluster.pkl')"
   ]
  },
  {
   "cell_type": "code",
   "execution_count": 159,
   "metadata": {
    "collapsed": true
   },
   "outputs": [],
   "source": [
    "clusters = km.labels_.tolist()"
   ]
  },
  {
   "cell_type": "code",
   "execution_count": 160,
   "metadata": {
    "collapsed": false
   },
   "outputs": [],
   "source": [
    "filenames = bbcdataset.filenames\n"
   ]
  },
  {
   "cell_type": "code",
   "execution_count": 161,
   "metadata": {
    "collapsed": false
   },
   "outputs": [],
   "source": [
    "titles = []\n",
    "# titles = X_\n",
    "\n",
    "for title in filenames:\n",
    "    t = title.split(\"\\\\\")[-2:]\n",
    "    s = \"\".join(t)\n",
    "    titles.append(s)"
   ]
  },
  {
   "cell_type": "code",
   "execution_count": 163,
   "metadata": {
    "collapsed": true
   },
   "outputs": [],
   "source": [
    "filedata = bbcdataset.data"
   ]
  },
  {
   "cell_type": "code",
   "execution_count": 165,
   "metadata": {
    "collapsed": true
   },
   "outputs": [],
   "source": [
    "import pandas as pd"
   ]
  },
  {
   "cell_type": "code",
   "execution_count": 166,
   "metadata": {
    "collapsed": false
   },
   "outputs": [],
   "source": [
    "films = { 'title': titles, 'textdata': filedata, 'cluster': clusters }\n",
    "\n",
    "frame = pd.DataFrame(films, index = [clusters] , columns = ['title', 'cluster'])"
   ]
  },
  {
   "cell_type": "code",
   "execution_count": 167,
   "metadata": {
    "collapsed": false
   },
   "outputs": [
    {
     "data": {
      "text/plain": [
       "2    93\n",
       "1    67\n",
       "4    54\n",
       "0    40\n",
       "3    18\n",
       "Name: cluster, dtype: int64"
      ]
     },
     "execution_count": 167,
     "metadata": {},
     "output_type": "execute_result"
    }
   ],
   "source": [
    "# Frequency of the file count in each cluster after k means\n",
    "frame['cluster'].value_counts() "
   ]
  },
  {
   "cell_type": "code",
   "execution_count": 170,
   "metadata": {
    "collapsed": false
   },
   "outputs": [],
   "source": [
    "class_target = pd.Series(bbcdataset.target)"
   ]
  },
  {
   "cell_type": "code",
   "execution_count": 171,
   "metadata": {
    "collapsed": false
   },
   "outputs": [
    {
     "data": {
      "text/plain": [
       "3    58\n",
       "1    58\n",
       "4    55\n",
       "2    52\n",
       "0    49\n",
       "dtype: int64"
      ]
     },
     "execution_count": 171,
     "metadata": {},
     "output_type": "execute_result"
    }
   ],
   "source": [
    "# Frequency of the file count in original dataset\n",
    "class_target.value_counts()"
   ]
  },
  {
   "cell_type": "code",
   "execution_count": 172,
   "metadata": {
    "collapsed": false
   },
   "outputs": [],
   "source": [
    "b = pd.Series(clusters)"
   ]
  },
  {
   "cell_type": "code",
   "execution_count": 173,
   "metadata": {
    "collapsed": false
   },
   "outputs": [
    {
     "data": {
      "text/plain": [
       "2    93\n",
       "1    67\n",
       "4    54\n",
       "0    40\n",
       "3    18\n",
       "dtype: int64"
      ]
     },
     "execution_count": 173,
     "metadata": {},
     "output_type": "execute_result"
    }
   ],
   "source": [
    "b.value_counts()"
   ]
  },
  {
   "cell_type": "code",
   "execution_count": 110,
   "metadata": {
    "collapsed": true
   },
   "outputs": [],
   "source": [
    "# order_centroids = km.cluster_centers_.argsort()[:, ::-1] "
   ]
  },
  {
   "cell_type": "code",
   "execution_count": null,
   "metadata": {
    "collapsed": false
   },
   "outputs": [],
   "source": [
    "# for i in range(5):\n",
    "#     print(\"Cluster %d words:\" % i, end='')\n",
    "    \n",
    "#     for ind in order_centroids[i, :6]: #replace 6 with n words per cluster\n",
    "#         print(' %s' % vocab_frame.ix[terms[ind].split(' ')].values.tolist()[0][0].encode('utf-8', 'ignore'), end=',')\n",
    "#     print() #add whitespace\n",
    "#     print() #add whitespace\n",
    "    \n",
    "#     print(\"Cluster %d titles:\" % i, end='')\n",
    "#     for title in frame.ix[i]['title'].values.tolist():\n",
    "#         print(' %s,' % title, end='')\n",
    "#     print() #add whitespace\n",
    "#     print() #add whitespace"
   ]
  },
  {
   "cell_type": "markdown",
   "metadata": {},
   "source": [
    "## 7.> Multi Dimensional Scaling\n",
    "****\n"
   ]
  },
  {
   "cell_type": "code",
   "execution_count": 175,
   "metadata": {
    "collapsed": true
   },
   "outputs": [],
   "source": [
    "# MDS using Cosine similiraity as a distance measure\n",
    "\n",
    "from sklearn.metrics.pairwise import cosine_similarity\n",
    "dist = 1 - cosine_similarity(X)"
   ]
  },
  {
   "cell_type": "code",
   "execution_count": 176,
   "metadata": {
    "collapsed": true
   },
   "outputs": [],
   "source": [
    "import os\n",
    "import matplotlib.pyplot as plt\n",
    "import matplotlib as mpl\n",
    "\n",
    "from sklearn.manifold import MDS"
   ]
  },
  {
   "cell_type": "code",
   "execution_count": 177,
   "metadata": {
    "collapsed": false
   },
   "outputs": [
    {
     "data": {
      "text/plain": [
       "MDS(dissimilarity='euclidean', eps=0.001, max_iter=300, metric=True,\n",
       "  n_components=2, n_init=4, n_jobs=1, random_state=None, verbose=0)"
      ]
     },
     "execution_count": 177,
     "metadata": {},
     "output_type": "execute_result"
    }
   ],
   "source": [
    "MDS()"
   ]
  },
  {
   "cell_type": "code",
   "execution_count": 178,
   "metadata": {
    "collapsed": true
   },
   "outputs": [],
   "source": [
    "mds = MDS(n_components=2, dissimilarity=\"precomputed\", random_state=1)"
   ]
  },
  {
   "cell_type": "code",
   "execution_count": 179,
   "metadata": {
    "collapsed": true
   },
   "outputs": [],
   "source": [
    "pos = mds.fit_transform(dist)  # shape (n_components, n_samples)"
   ]
  },
  {
   "cell_type": "code",
   "execution_count": 180,
   "metadata": {
    "collapsed": false
   },
   "outputs": [
    {
     "name": "stdout",
     "output_type": "stream",
     "text": [
      "\n",
      "\n"
     ]
    }
   ],
   "source": [
    "xs, ys = pos[:, 0], pos[:, 1]\n",
    "print()\n",
    "print()"
   ]
  },
  {
   "cell_type": "code",
   "execution_count": 181,
   "metadata": {
    "collapsed": true
   },
   "outputs": [],
   "source": [
    "\n",
    "#set up colors per clusters using a dict\n",
    "cluster_colors = {0: '#1b9e77', 1: '#d95f02', 2: '#7570b3', 3: '#e7298a', 4: '#66a61e'}\n",
    "\n",
    "#set up cluster names using a dict\n",
    "cluster_names = {0: 'Business', \n",
    "                 1: 'Politics', \n",
    "                 2: 'Tech', \n",
    "                 3: 'Entertainment', \n",
    "                 4: 'Sports'}"
   ]
  },
  {
   "cell_type": "code",
   "execution_count": 182,
   "metadata": {
    "collapsed": false
   },
   "outputs": [
    {
     "data": {
      "image/png": "[encoded data removed]",
      "text/plain": [
       "<matplotlib.figure.Figure at 0x1f7844e7198>"
      ]
     },
     "metadata": {},
     "output_type": "display_data"
    }
   ],
   "source": [
    "#some ipython magic to show the matplotlib plots inline\n",
    "%matplotlib inline \n",
    "\n",
    "#create data frame that has the result of the MDS plus the cluster numbers and titles\n",
    "df = pd.DataFrame(dict(x=xs, y=ys, label=clusters, title=titles)) \n",
    "\n",
    "#group by cluster\n",
    "groups = df.groupby('label')\n",
    "\n",
    "\n",
    "# set up plot\n",
    "fig, ax = plt.subplots(figsize=(17, 9)) # set size\n",
    "ax.margins(0.05) # Optional, just adds 5% padding to the autoscaling\n",
    "\n",
    "#iterate through groups to layer the plot\n",
    "#note that I use the cluster_name and cluster_color dicts with the 'name' lookup to return the appropriate color/label\n",
    "for name, group in groups:\n",
    "    ax.plot(group.x, group.y, marker='o', linestyle='', ms=12, \n",
    "            label=cluster_names[name], color=cluster_colors[name], \n",
    "            mec='none')\n",
    "    ax.set_aspect('auto')\n",
    "    ax.tick_params(\\\n",
    "        axis= 'x',          # changes apply to the x-axis\n",
    "        which='both',      # both major and minor ticks are affected\n",
    "        bottom='off',      # ticks along the bottom edge are off\n",
    "        top='off',         # ticks along the top edge are off\n",
    "        labelbottom='off')\n",
    "    ax.tick_params(\\\n",
    "        axis= 'y',         # changes apply to the y-axis\n",
    "        which='both',      # both major and minor ticks are affected\n",
    "        left='off',      # ticks along the bottom edge are off\n",
    "        top='off',         # ticks along the top edge are off\n",
    "        labelleft='off')\n",
    "    \n",
    "ax.legend(numpoints=1)  #show legend with only 1 point\n",
    "\n",
    "#add label in x,y position with the label as the film title\n",
    "for i in range(len(df)):\n",
    "    ax.text(df.ix[i]['x'], df.ix[i]['y'], df.ix[i]['title'], size=8)  \n",
    "\n",
    "    \n",
    "    \n",
    "plt.show() #show the plot\n",
    "\n",
    "#uncomment the below to save the plot if need be\n",
    "#plt.savefig('clusters_small_noaxes.png', dpi=200)"
   ]
  },
  {
   "cell_type": "markdown",
   "metadata": {},
   "source": [
    "## 7.> Agglomorative clustering : WARD ALGORITHM along with Dendrogram\n",
    "****\n",
    "\n",
    "\n",
    "\n"
   ]
  },
  {
   "cell_type": "code",
   "execution_count": 183,
   "metadata": {
    "collapsed": false
   },
   "outputs": [
    {
     "data": {
      "image/png": "[encoded data removed]",
      "text/plain": [
       "<matplotlib.figure.Figure at 0x1f78611a9b0>"
      ]
     },
     "metadata": {},
     "output_type": "display_data"
    }
   ],
   "source": [
    "from scipy.cluster.hierarchy import ward, dendrogram\n",
    "\n",
    "linkage_matrix = ward(dist) #define the linkage_matrix using ward clustering pre-computed distances\n",
    "\n",
    "fig, ax = plt.subplots(figsize=(15, 20)) # set size\n",
    "ax = dendrogram(linkage_matrix, orientation=\"right\", labels=titles);\n",
    "\n",
    "plt.tick_params(\\\n",
    "    axis= 'x',          # changes apply to the x-axis\n",
    "    which='both',      # both major and minor ticks are affected\n",
    "    bottom='off',      # ticks along the bottom edge are off\n",
    "    top='off',         # ticks along the top edge are off\n",
    "    labelbottom='off')\n",
    "\n",
    "plt.tight_layout() #show plot with tight layout\n",
    "\n",
    "#uncomment below to save figure\n",
    "plt.savefig('ward_clusters.png', dpi=400) #save figure as ward_clusters"
   ]
  },
  {
   "cell_type": "code",
   "execution_count": null,
   "metadata": {
    "collapsed": true
   },
   "outputs": [],
   "source": []
  }
 ],
 "metadata": {
  "anaconda-cloud": {},
  "celltoolbar": "Raw Cell Format",
  "kernelspec": {
   "display_name": "Python [Root]",
   "language": "python",
   "name": "Python [Root]"
  },
  "language_info": {
   "codemirror_mode": {
    "name": "ipython",
    "version": 3
   },
   "file_extension": ".py",
   "mimetype": "text/x-python",
   "name": "python",
   "nbconvert_exporter": "python",
   "pygments_lexer": "ipython3",
   "version": "3.5.2"
  }
 },
 "nbformat": 4,
 "nbformat_minor": 0
}
